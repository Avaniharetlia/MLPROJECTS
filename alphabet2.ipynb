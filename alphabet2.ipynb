{
  "nbformat": 4,
  "nbformat_minor": 0,
  "metadata": {
    "colab": {
      "provenance": [],
      "authorship_tag": "ABX9TyO0y865VipBaf/y/bG9vAVj",
      "include_colab_link": true
    },
    "kernelspec": {
      "name": "python3",
      "display_name": "Python 3"
    },
    "language_info": {
      "name": "python"
    }
  },
  "cells": [
    {
      "cell_type": "markdown",
      "metadata": {
        "id": "view-in-github",
        "colab_type": "text"
      },
      "source": [
        "<a href=\"https://colab.research.google.com/github/Avaniharetlia/MLPROJECTS/blob/main/alphabet2.ipynb\" target=\"_parent\"><img src=\"https://colab.research.google.com/assets/colab-badge.svg\" alt=\"Open In Colab\"/></a>"
      ]
    },
    {
      "cell_type": "code",
      "execution_count": 2,
      "metadata": {
        "id": "duSpCaQjlItJ",
        "colab": {
          "base_uri": "https://localhost:8080/"
        },
        "outputId": "b437a963-2ada-4d7a-dcbb-71088509822f"
      },
      "outputs": [
        {
          "output_type": "stream",
          "name": "stdout",
          "text": [
            "3\n"
          ]
        }
      ],
      "source": [
        "import sys\n",
        "from functools import lru_cache\n",
        "\n",
        "def worth_of(s: str) -> int:\n",
        "    # worth = sum of alphabet positions (a=1 ... z=26)\n",
        "    return sum(ord(c) - 96 for c in s)\n",
        "\n",
        "def solve(N, M, strings, costs, conflict_pairs, budget):\n",
        "    # conflict matrix\n",
        "    conflict = [[False] * N for _ in range(N)]\n",
        "    string_to_index = {s: i for i, s in enumerate(strings)} # map string to index\n",
        "    for a, b in conflict_pairs:\n",
        "        i, j = string_to_index[a], string_to_index[b]\n",
        "        conflict[i][j] = conflict[j][i] = True\n",
        "\n",
        "    worths = [worth_of(s) for s in strings]\n",
        "\n",
        "    @lru_cache(maxsize=None)\n",
        "    def dfs(i: int, remaining: int, chosen_mask: int) -> int:\n",
        "        if i == N:\n",
        "            return 0\n",
        "        # skip string i\n",
        "        best = dfs(i + 1, remaining, chosen_mask)\n",
        "        # take string i if allowed\n",
        "        if costs[i] <= remaining:\n",
        "            ok = True\n",
        "            for j in range(N):\n",
        "                if (chosen_mask >> j) & 1 and conflict[i][j]:\n",
        "                    ok = False\n",
        "                    break\n",
        "            if ok:\n",
        "                best = max(best,\n",
        "                           worths[i] + dfs(i + 1,\n",
        "                                           remaining - costs[i],\n",
        "                                           chosen_mask | (1 << i)))\n",
        "        return best\n",
        "\n",
        "    return dfs(0, budget, 0)\n",
        "\n",
        "# Sample Input Data (replace with your actual input)\n",
        "N = 3\n",
        "M = 1\n",
        "strings = [\"a\", \"b\", \"c\"]\n",
        "costs = [1, 2, 3]\n",
        "conflict_pairs = [(\"a\", \"b\")]\n",
        "budget = 3\n",
        "\n",
        "# Call the solve function with the sample data\n",
        "result = solve(N, M, strings, costs, conflict_pairs, budget)\n",
        "print(result)"
      ]
    }
  ]
}