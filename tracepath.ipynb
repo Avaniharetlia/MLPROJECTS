{
  "nbformat": 4,
  "nbformat_minor": 0,
  "metadata": {
    "colab": {
      "provenance": [],
      "authorship_tag": "ABX9TyP0VJKygexss94Ba3syyxJM",
      "include_colab_link": true
    },
    "kernelspec": {
      "name": "python3",
      "display_name": "Python 3"
    },
    "language_info": {
      "name": "python"
    }
  },
  "cells": [
    {
      "cell_type": "markdown",
      "metadata": {
        "id": "view-in-github",
        "colab_type": "text"
      },
      "source": [
        "<a href=\"https://colab.research.google.com/github/Avaniharetlia/MLPROJECTS/blob/main/tracepath.ipynb\" target=\"_parent\"><img src=\"https://colab.research.google.com/assets/colab-badge.svg\" alt=\"Open In Colab\"/></a>"
      ]
    },
    {
      "cell_type": "code",
      "execution_count": 1,
      "metadata": {
        "id": "UwQq3xjxl3m7",
        "colab": {
          "base_uri": "https://localhost:8080/"
        },
        "outputId": "889fb3fa-6a9d-4e35-b310-584fae2f7c15"
      },
      "outputs": [
        {
          "output_type": "stream",
          "name": "stdout",
          "text": [
            "1\n"
          ]
        }
      ],
      "source": [
        "import sys\n",
        "\n",
        "moves = {'u': (-1, 0), 'd': (1, 0), 'l': (0, -1), 'r': (0, 1)}\n",
        "\n",
        "def trace_path(start, seq):\n",
        "    x, y = start\n",
        "    path = [(x, y)]\n",
        "    for c in seq:\n",
        "        dx, dy = moves[c]\n",
        "        x, y = x + dx, y + dy\n",
        "        path.append((x, y))\n",
        "    return path\n",
        "\n",
        "def main(input_data):\n",
        "    # data = sys.stdin.read().strip().split() # Modified to accept input directly\n",
        "    data = input_data.strip().split()\n",
        "    if not data: return\n",
        "    it = iter(data)\n",
        "    S = int(next(it))\n",
        "\n",
        "    sx1, sy1 = int(next(it)), int(next(it))\n",
        "    seq1 = next(it).strip()\n",
        "    sx2, sy2 = int(next(it)), int(next(it))\n",
        "    seq2 = next(it).strip()\n",
        "\n",
        "    path1 = trace_path((sx1, sy1), seq1)\n",
        "    path2 = trace_path((sx2, sy2), seq2)\n",
        "\n",
        "    set1, set2 = set(path1), set(path2)\n",
        "    overlap = set1 & set2\n",
        "\n",
        "    if not overlap:\n",
        "        print(0)\n",
        "        return\n",
        "\n",
        "    # band1 placed first (under), band2 placed above\n",
        "    band1_above = False\n",
        "    band2_above = False\n",
        "    overlap_count_band1 = 0\n",
        "    overlap_count_band2 = 0\n",
        "\n",
        "    for cell in overlap:\n",
        "        # check order in both paths\n",
        "        i1 = path1.index(cell)\n",
        "        i2 = path2.index(cell)\n",
        "        # whichever band steps later is \"above\" at that cell\n",
        "        if i1 < i2:\n",
        "            band2_above = True\n",
        "            overlap_count_band2 += 1\n",
        "        elif i2 < i1:\n",
        "            band1_above = True\n",
        "            overlap_count_band1 += 1\n",
        "        else:\n",
        "            # they both arrive at same step index (rare) → tangled\n",
        "            print(\"Impossible\")\n",
        "            return\n",
        "\n",
        "    if band1_above and band2_above:\n",
        "        print(\"Impossible\")\n",
        "    else:\n",
        "        print(max(overlap_count_band1, overlap_count_band2))\n",
        "\n",
        "if __name__ == \"__main__\":\n",
        "    # Example usage with direct input\n",
        "    input_string = \"5 0 0 rrrrr 1 0 rrrru\"\n",
        "    main(input_string)"
      ]
    }
  ]
}