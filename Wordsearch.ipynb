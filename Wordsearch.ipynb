{
  "nbformat": 4,
  "nbformat_minor": 0,
  "metadata": {
    "colab": {
      "provenance": [],
      "authorship_tag": "ABX9TyP8Z9Kd1bd3T3aFCvZ+D7sx",
      "include_colab_link": true
    },
    "kernelspec": {
      "name": "python3",
      "display_name": "Python 3"
    },
    "language_info": {
      "name": "python"
    }
  },
  "cells": [
    {
      "cell_type": "markdown",
      "metadata": {
        "id": "view-in-github",
        "colab_type": "text"
      },
      "source": [
        "<a href=\"https://colab.research.google.com/github/Avaniharetlia/MLPROJECTS/blob/main/Wordsearch.ipynb\" target=\"_parent\"><img src=\"https://colab.research.google.com/assets/colab-badge.svg\" alt=\"Open In Colab\"/></a>"
      ]
    },
    {
      "cell_type": "code",
      "execution_count": null,
      "metadata": {
        "id": "1G0lnu1a41O_"
      },
      "outputs": [],
      "source": [
        "from sklearn.feature_extraction.text import TfidfVectorizer"
      ]
    },
    {
      "cell_type": "code",
      "source": [
        "documents=[\"Deep learning is a subset of machine learning\"\n",
        "\"Machine learning uses algorithms to learn from data\",\n",
        "\"TF IDF is used in infromation retrieval and texrt mining\",\n",
        "\"Deep learning and machine learning are popular in AI\"]\n",
        "vectorizer=TfidfVectorizer()\n",
        "tfidf_matrix=vectorizer.fit_transform(documents)\n"
      ],
      "metadata": {
        "id": "aPmF21Nz5ISj"
      },
      "execution_count": null,
      "outputs": []
    },
    {
      "cell_type": "markdown",
      "source": [],
      "metadata": {
        "id": "6lCJ9GHi6YIA"
      }
    },
    {
      "cell_type": "code",
      "source": [
        "feature_names=vectorizer.get_feature_names_out()\n",
        "dense= tfidf_matrix.todense()"
      ],
      "metadata": {
        "id": "usMdpoWo6UgZ"
      },
      "execution_count": null,
      "outputs": []
    },
    {
      "cell_type": "code",
      "source": [
        "for doc_idx, doc in enumerate(dense):\n",
        "    print(f\"\\nDocument {doc_idx+1}:\")\n",
        "    for word_idx, score in enumerate(doc.tolist()[0]):\n",
        "        if score > 0:\n",
        "            print(f\" {feature_names[word_idx]}:{score:.4f}\")"
      ],
      "metadata": {
        "colab": {
          "base_uri": "https://localhost:8080/"
        },
        "id": "uEffGC-K6glQ",
        "outputId": "d3756815-62c6-4f10-9ced-d178a0c2b868"
      },
      "execution_count": null,
      "outputs": [
        {
          "output_type": "stream",
          "name": "stdout",
          "text": [
            "\n",
            "Document 1:\n",
            " algorithms:0.2768\n",
            " data:0.2768\n",
            " deep:0.2105\n",
            " from:0.2768\n",
            " is:0.2105\n",
            " learn:0.2768\n",
            " learning:0.4211\n",
            " learningmachine:0.2768\n",
            " machine:0.2105\n",
            " of:0.2768\n",
            " subset:0.2768\n",
            " to:0.2768\n",
            " uses:0.2768\n",
            "\n",
            "Document 2:\n",
            " and:0.2573\n",
            " idf:0.3383\n",
            " in:0.2573\n",
            " infromation:0.3383\n",
            " is:0.2573\n",
            " mining:0.3383\n",
            " retrieval:0.3383\n",
            " texrt:0.3383\n",
            " tf:0.3383\n",
            " used:0.3383\n",
            "\n",
            "Document 3:\n",
            " ai:0.3621\n",
            " and:0.2754\n",
            " are:0.3621\n",
            " deep:0.2754\n",
            " in:0.2754\n",
            " learning:0.5508\n",
            " machine:0.2754\n",
            " popular:0.3621\n"
          ]
        }
      ]
    }
  ]
}