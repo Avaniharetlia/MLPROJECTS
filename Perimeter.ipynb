{
  "nbformat": 4,
  "nbformat_minor": 0,
  "metadata": {
    "colab": {
      "provenance": [],
      "authorship_tag": "ABX9TyM0zieEuYrXKckRbnOJzMzi",
      "include_colab_link": true
    },
    "kernelspec": {
      "name": "python3",
      "display_name": "Python 3"
    },
    "language_info": {
      "name": "python"
    }
  },
  "cells": [
    {
      "cell_type": "markdown",
      "metadata": {
        "id": "view-in-github",
        "colab_type": "text"
      },
      "source": [
        "<a href=\"https://colab.research.google.com/github/Avaniharetlia/MLPROJECTS/blob/main/Perimeter.ipynb\" target=\"_parent\"><img src=\"https://colab.research.google.com/assets/colab-badge.svg\" alt=\"Open In Colab\"/></a>"
      ]
    },
    {
      "cell_type": "code",
      "execution_count": 1,
      "metadata": {
        "colab": {
          "base_uri": "https://localhost:8080/"
        },
        "id": "xEamIM-NfWWo",
        "outputId": "6b18c772-9080-4b81-e227-da60bbc9d380"
      },
      "outputs": [
        {
          "output_type": "stream",
          "name": "stdout",
          "text": [
            "4\n"
          ]
        }
      ],
      "source": [
        "import sys, math\n",
        "\n",
        "def cross(o, a, b):\n",
        "    return (a[0]-o[0])*(b[1]-o[1]) - (a[1]-o[1])*(b[0]-o[0])\n",
        "\n",
        "def dist(p, q):\n",
        "    return math.hypot(q[0]-p[0], q[1]-p[1])\n",
        "\n",
        "# Use a predefined list of points as input\n",
        "pts = [(0, 0), (1, 0), (1, 1), (0, 1), (0.5, 0.5)]\n",
        "\n",
        "# sort by x then y\n",
        "pts = sorted(set(pts))  # de-dup just in case\n",
        "\n",
        "# build lower convex chain (bowl)\n",
        "lower = []\n",
        "for p in pts:\n",
        "    while len(lower) >= 2 and cross(lower[-2], lower[-1], p) <= 0:\n",
        "        lower.pop()\n",
        "    lower.append(p)\n",
        "\n",
        "# build upper convex chain (lid)\n",
        "upper = []\n",
        "for p in reversed(pts):\n",
        "    while len(upper) >= 2 and cross(upper[-2], upper[-1], p) <= 0:\n",
        "        upper.pop()\n",
        "    upper.append(p)\n",
        "\n",
        "# The convex hull is the concatenation of the lower and upper chains\n",
        "# Remove the last point of each chain to avoid duplication\n",
        "hull = lower[:-1] + upper[:-1]\n",
        "\n",
        "# Calculate the perimeter of the convex hull\n",
        "perimeter = sum(dist(hull[i], hull[i+1]) for i in range(len(hull)-1)) + dist(hull[-1], hull[0])\n",
        "\n",
        "print(int(math.floor(perimeter + 0.5)))"
      ]
    }
  ]
}