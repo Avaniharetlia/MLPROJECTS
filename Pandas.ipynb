{
  "nbformat": 4,
  "nbformat_minor": 0,
  "metadata": {
    "colab": {
      "provenance": [],
      "authorship_tag": "ABX9TyMPaT/Q1SvJ8hwjQMk/64st",
      "include_colab_link": true
    },
    "kernelspec": {
      "name": "python3",
      "display_name": "Python 3"
    },
    "language_info": {
      "name": "python"
    }
  },
  "cells": [
    {
      "cell_type": "markdown",
      "metadata": {
        "id": "view-in-github",
        "colab_type": "text"
      },
      "source": [
        "<a href=\"https://colab.research.google.com/github/Avaniharetlia/MLPROJECTS/blob/main/Pandas.ipynb\" target=\"_parent\"><img src=\"https://colab.research.google.com/assets/colab-badge.svg\" alt=\"Open In Colab\"/></a>"
      ]
    },
    {
      "cell_type": "code",
      "execution_count": null,
      "metadata": {
        "id": "LiPNYEhfTsBe",
        "colab": {
          "base_uri": "https://localhost:8080/"
        },
        "outputId": "338a481c-a302-4413-e4de-439008607993"
      },
      "outputs": [
        {
          "output_type": "stream",
          "name": "stdout",
          "text": [
            "First 5 rows:\n",
            "     Age  Gender Education Level          Job Title  Years of Experience  \\\n",
            "0  32.0    Male      Bachelor's  Software Engineer                  5.0   \n",
            "1  28.0  Female        Master's       Data Analyst                  3.0   \n",
            "2  45.0    Male             PhD     Senior Manager                 15.0   \n",
            "3  36.0  Female      Bachelor's    Sales Associate                  7.0   \n",
            "4  52.0    Male        Master's           Director                 20.0   \n",
            "\n",
            "     Salary  \n",
            "0   90000.0  \n",
            "1   65000.0  \n",
            "2  150000.0  \n",
            "3   60000.0  \n",
            "4  200000.0  \n",
            "\n",
            "Column Names: ['Age', 'Gender', 'Education Level', 'Job Title', 'Years of Experience', 'Salary']\n",
            "\n",
            "Mean Squared Error: 927079077.87\n",
            "\n",
            "Predicted Salary for 5 Years Experience: $93665.78\n"
          ]
        },
        {
          "output_type": "stream",
          "name": "stderr",
          "text": [
            "/usr/local/lib/python3.11/dist-packages/sklearn/utils/validation.py:2732: UserWarning: X has feature names, but StandardScaler was fitted without feature names\n",
            "  warnings.warn(\n"
          ]
        }
      ],
      "source": [
        "import pandas as pd\n",
        "from sklearn.model_selection import train_test_split\n",
        "from sklearn.linear_model import LinearRegression\n",
        "from sklearn.metrics import mean_squared_error\n",
        "from sklearn.impute import SimpleImputer\n",
        "from sklearn.preprocessing import StandardScaler\n",
        "\n",
        "# Load the dataset\n",
        "data = pd.read_csv('/content/Salary_Data.csv')\n",
        "\n",
        "# Inspect the data\n",
        "print(\"First 5 rows:\\n\", data.head())\n",
        "\n",
        "# Check column names\n",
        "print(\"\\nColumn Names:\", data.columns.tolist())\n",
        "\n",
        "# Use correct column names (assuming they are 'YearsExperience' and 'Salary')\n",
        "X = data[['Years of Experience']]  # Features\n",
        "y = data['Salary']            # Target\n",
        "\n",
        "# Handle missing values (if any) in X\n",
        "imputer_X = SimpleImputer(strategy='mean')\n",
        "X = imputer_X.fit_transform(X)\n",
        "\n",
        "# Handle missing values (if any) in y\n",
        "imputer_y = SimpleImputer(strategy='mean')\n",
        "y = imputer_y.fit_transform(y.values.reshape(-1, 1)).ravel()\n",
        "\n",
        "\n",
        "# Standardize the feature\n",
        "scaler = StandardScaler()\n",
        "X_scaled = scaler.fit_transform(X)\n",
        "\n",
        "# Split data into train and test\n",
        "X_train, X_test, y_train, y_test = train_test_split(X_scaled, y, test_size=0.2, random_state=42)\n",
        "\n",
        "# Create and train the model\n",
        "model = LinearRegression()\n",
        "model.fit(X_train, y_train)\n",
        "\n",
        "# Predict on test data\n",
        "y_pred = model.predict(X_test)\n",
        "\n",
        "# Evaluate the model\n",
        "mse = mean_squared_error(y_test, y_pred)\n",
        "print(f\"\\nMean Squared Error: {mse:.2f}\")\n",
        "\n",
        "# Predict salary for 5 years of experience\n",
        "new_data = pd.DataFrame({'Years of Experience': [5]})\n",
        "new_data_scaled = scaler.transform(new_data)\n",
        "predicted_salary = model.predict(new_data_scaled)\n",
        "\n",
        "print(f\"\\nPredicted Salary for 5 Years Experience: ${predicted_salary[0]:.2f}\")"
      ]
    }
  ]
}